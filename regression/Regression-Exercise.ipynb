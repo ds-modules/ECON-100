{
 "cells": [
  {
   "cell_type": "code",
   "execution_count": 1,
   "metadata": {
    "collapsed": false
   },
   "outputs": [],
   "source": [
    "import numpy as np\n",
    "import pandas as pd\n",
    "import seaborn as sns\n",
    "import statsmodels.formula.api as smf\n",
    "import matplotlib.pyplot as plt\n",
    "%matplotlib inline"
   ]
  },
  {
   "cell_type": "markdown",
   "metadata": {},
   "source": [
    "# Extra Credit\n",
    "\n",
    "> If you know how to estimate simple regressions, this one's for you! On *bcourses* you'll find two files, `happydata.txt` and `codebook.txt`. The former contains variables called `HAPPY`, `REALINC`, and `REGION`.  Download these.\n",
    "\n",
    "---\n",
    "\n",
    "# Part 1\n",
    "\n",
    "First let's read in the data:"
   ]
  },
  {
   "cell_type": "code",
   "execution_count": 2,
   "metadata": {
    "collapsed": false
   },
   "outputs": [
    {
     "data": {
      "text/html": [
       "<div>\n",
       "<style>\n",
       "    .dataframe thead tr:only-child th {\n",
       "        text-align: right;\n",
       "    }\n",
       "\n",
       "    .dataframe thead th {\n",
       "        text-align: left;\n",
       "    }\n",
       "\n",
       "    .dataframe tbody tr th {\n",
       "        vertical-align: top;\n",
       "    }\n",
       "</style>\n",
       "<table border=\"1\" class=\"dataframe\">\n",
       "  <thead>\n",
       "    <tr style=\"text-align: right;\">\n",
       "      <th></th>\n",
       "      <th>CASEID</th>\n",
       "      <th>YEAR</th>\n",
       "      <th>REGION</th>\n",
       "      <th>HAPPY</th>\n",
       "      <th>REALINC</th>\n",
       "    </tr>\n",
       "  </thead>\n",
       "  <tbody>\n",
       "    <tr>\n",
       "      <th>0</th>\n",
       "      <td>1</td>\n",
       "      <td>1972</td>\n",
       "      <td>3</td>\n",
       "      <td>3</td>\n",
       "      <td>18951</td>\n",
       "    </tr>\n",
       "    <tr>\n",
       "      <th>1</th>\n",
       "      <td>2</td>\n",
       "      <td>1972</td>\n",
       "      <td>3</td>\n",
       "      <td>3</td>\n",
       "      <td>24366</td>\n",
       "    </tr>\n",
       "    <tr>\n",
       "      <th>2</th>\n",
       "      <td>3</td>\n",
       "      <td>1972</td>\n",
       "      <td>3</td>\n",
       "      <td>2</td>\n",
       "      <td>24366</td>\n",
       "    </tr>\n",
       "    <tr>\n",
       "      <th>3</th>\n",
       "      <td>4</td>\n",
       "      <td>1972</td>\n",
       "      <td>3</td>\n",
       "      <td>3</td>\n",
       "      <td>30458</td>\n",
       "    </tr>\n",
       "    <tr>\n",
       "      <th>4</th>\n",
       "      <td>5</td>\n",
       "      <td>1972</td>\n",
       "      <td>3</td>\n",
       "      <td>2</td>\n",
       "      <td>50763</td>\n",
       "    </tr>\n",
       "  </tbody>\n",
       "</table>\n",
       "</div>"
      ],
      "text/plain": [
       "   CASEID  YEAR  REGION  HAPPY  REALINC\n",
       "0       1  1972       3      3    18951\n",
       "1       2  1972       3      3    24366\n",
       "2       3  1972       3      2    24366\n",
       "3       4  1972       3      3    30458\n",
       "4       5  1972       3      2    50763"
      ]
     },
     "execution_count": 2,
     "metadata": {},
     "output_type": "execute_result"
    }
   ],
   "source": [
    "happy_data = pd.read_csv(\"data/happydata.csv\")\n",
    "happy_data.head()"
   ]
  },
  {
   "cell_type": "markdown",
   "metadata": {},
   "source": [
    "We can get some quick summary statistics:"
   ]
  },
  {
   "cell_type": "code",
   "execution_count": 3,
   "metadata": {
    "collapsed": false
   },
   "outputs": [
    {
     "data": {
      "text/html": [
       "<div>\n",
       "<style>\n",
       "    .dataframe thead tr:only-child th {\n",
       "        text-align: right;\n",
       "    }\n",
       "\n",
       "    .dataframe thead th {\n",
       "        text-align: left;\n",
       "    }\n",
       "\n",
       "    .dataframe tbody tr th {\n",
       "        vertical-align: top;\n",
       "    }\n",
       "</style>\n",
       "<table border=\"1\" class=\"dataframe\">\n",
       "  <thead>\n",
       "    <tr style=\"text-align: right;\">\n",
       "      <th></th>\n",
       "      <th>CASEID</th>\n",
       "      <th>YEAR</th>\n",
       "      <th>REGION</th>\n",
       "      <th>HAPPY</th>\n",
       "      <th>REALINC</th>\n",
       "    </tr>\n",
       "  </thead>\n",
       "  <tbody>\n",
       "    <tr>\n",
       "      <th>count</th>\n",
       "      <td>55087.000000</td>\n",
       "      <td>55087.000000</td>\n",
       "      <td>55087.000000</td>\n",
       "      <td>55087.000000</td>\n",
       "      <td>55087.000000</td>\n",
       "    </tr>\n",
       "    <tr>\n",
       "      <th>mean</th>\n",
       "      <td>27544.000000</td>\n",
       "      <td>1991.370596</td>\n",
       "      <td>4.885508</td>\n",
       "      <td>1.708969</td>\n",
       "      <td>28183.557082</td>\n",
       "    </tr>\n",
       "    <tr>\n",
       "      <th>std</th>\n",
       "      <td>15902.391476</td>\n",
       "      <td>11.299333</td>\n",
       "      <td>2.449271</td>\n",
       "      <td>0.969792</td>\n",
       "      <td>28644.955126</td>\n",
       "    </tr>\n",
       "    <tr>\n",
       "      <th>min</th>\n",
       "      <td>1.000000</td>\n",
       "      <td>1972.000000</td>\n",
       "      <td>1.000000</td>\n",
       "      <td>0.000000</td>\n",
       "      <td>0.000000</td>\n",
       "    </tr>\n",
       "    <tr>\n",
       "      <th>25%</th>\n",
       "      <td>13772.500000</td>\n",
       "      <td>1982.000000</td>\n",
       "      <td>3.000000</td>\n",
       "      <td>1.000000</td>\n",
       "      <td>8595.000000</td>\n",
       "    </tr>\n",
       "    <tr>\n",
       "      <th>50%</th>\n",
       "      <td>27544.000000</td>\n",
       "      <td>1991.000000</td>\n",
       "      <td>5.000000</td>\n",
       "      <td>2.000000</td>\n",
       "      <td>21068.000000</td>\n",
       "    </tr>\n",
       "    <tr>\n",
       "      <th>75%</th>\n",
       "      <td>41315.500000</td>\n",
       "      <td>2002.000000</td>\n",
       "      <td>7.000000</td>\n",
       "      <td>2.000000</td>\n",
       "      <td>36575.000000</td>\n",
       "    </tr>\n",
       "    <tr>\n",
       "      <th>max</th>\n",
       "      <td>55087.000000</td>\n",
       "      <td>2010.000000</td>\n",
       "      <td>9.000000</td>\n",
       "      <td>9.000000</td>\n",
       "      <td>162607.000000</td>\n",
       "    </tr>\n",
       "  </tbody>\n",
       "</table>\n",
       "</div>"
      ],
      "text/plain": [
       "             CASEID          YEAR        REGION         HAPPY        REALINC\n",
       "count  55087.000000  55087.000000  55087.000000  55087.000000   55087.000000\n",
       "mean   27544.000000   1991.370596      4.885508      1.708969   28183.557082\n",
       "std    15902.391476     11.299333      2.449271      0.969792   28644.955126\n",
       "min        1.000000   1972.000000      1.000000      0.000000       0.000000\n",
       "25%    13772.500000   1982.000000      3.000000      1.000000    8595.000000\n",
       "50%    27544.000000   1991.000000      5.000000      2.000000   21068.000000\n",
       "75%    41315.500000   2002.000000      7.000000      2.000000   36575.000000\n",
       "max    55087.000000   2010.000000      9.000000      9.000000  162607.000000"
      ]
     },
     "execution_count": 3,
     "metadata": {},
     "output_type": "execute_result"
    }
   ],
   "source": [
    "happy_data.describe()"
   ]
  },
  {
   "cell_type": "markdown",
   "metadata": {},
   "source": [
    "As per directions, we'll drop responses for `HAPPY` that should not factor into our analysis:"
   ]
  },
  {
   "cell_type": "code",
   "execution_count": 4,
   "metadata": {
    "collapsed": false
   },
   "outputs": [
    {
     "data": {
      "text/html": [
       "<div>\n",
       "<style>\n",
       "    .dataframe thead tr:only-child th {\n",
       "        text-align: right;\n",
       "    }\n",
       "\n",
       "    .dataframe thead th {\n",
       "        text-align: left;\n",
       "    }\n",
       "\n",
       "    .dataframe tbody tr th {\n",
       "        vertical-align: top;\n",
       "    }\n",
       "</style>\n",
       "<table border=\"1\" class=\"dataframe\">\n",
       "  <thead>\n",
       "    <tr style=\"text-align: right;\">\n",
       "      <th></th>\n",
       "      <th>CASEID</th>\n",
       "      <th>YEAR</th>\n",
       "      <th>REGION</th>\n",
       "      <th>HAPPY</th>\n",
       "      <th>REALINC</th>\n",
       "    </tr>\n",
       "  </thead>\n",
       "  <tbody>\n",
       "    <tr>\n",
       "      <th>count</th>\n",
       "      <td>50357.000000</td>\n",
       "      <td>50357.000000</td>\n",
       "      <td>50357.000000</td>\n",
       "      <td>50357.000000</td>\n",
       "      <td>50357.000000</td>\n",
       "    </tr>\n",
       "    <tr>\n",
       "      <th>mean</th>\n",
       "      <td>25998.103759</td>\n",
       "      <td>1990.276545</td>\n",
       "      <td>4.871398</td>\n",
       "      <td>1.807872</td>\n",
       "      <td>27945.333141</td>\n",
       "    </tr>\n",
       "    <tr>\n",
       "      <th>std</th>\n",
       "      <td>15634.690306</td>\n",
       "      <td>11.121952</td>\n",
       "      <td>2.449543</td>\n",
       "      <td>0.635553</td>\n",
       "      <td>27977.467779</td>\n",
       "    </tr>\n",
       "    <tr>\n",
       "      <th>min</th>\n",
       "      <td>1.000000</td>\n",
       "      <td>1972.000000</td>\n",
       "      <td>1.000000</td>\n",
       "      <td>1.000000</td>\n",
       "      <td>0.000000</td>\n",
       "    </tr>\n",
       "    <tr>\n",
       "      <th>25%</th>\n",
       "      <td>12635.000000</td>\n",
       "      <td>1982.000000</td>\n",
       "      <td>3.000000</td>\n",
       "      <td>1.000000</td>\n",
       "      <td>8636.000000</td>\n",
       "    </tr>\n",
       "    <tr>\n",
       "      <th>50%</th>\n",
       "      <td>25377.000000</td>\n",
       "      <td>1990.000000</td>\n",
       "      <td>5.000000</td>\n",
       "      <td>2.000000</td>\n",
       "      <td>21068.000000</td>\n",
       "    </tr>\n",
       "    <tr>\n",
       "      <th>75%</th>\n",
       "      <td>38050.000000</td>\n",
       "      <td>1998.000000</td>\n",
       "      <td>7.000000</td>\n",
       "      <td>2.000000</td>\n",
       "      <td>36189.000000</td>\n",
       "    </tr>\n",
       "    <tr>\n",
       "      <th>max</th>\n",
       "      <td>55087.000000</td>\n",
       "      <td>2010.000000</td>\n",
       "      <td>9.000000</td>\n",
       "      <td>3.000000</td>\n",
       "      <td>162607.000000</td>\n",
       "    </tr>\n",
       "  </tbody>\n",
       "</table>\n",
       "</div>"
      ],
      "text/plain": [
       "             CASEID          YEAR        REGION         HAPPY        REALINC\n",
       "count  50357.000000  50357.000000  50357.000000  50357.000000   50357.000000\n",
       "mean   25998.103759   1990.276545      4.871398      1.807872   27945.333141\n",
       "std    15634.690306     11.121952      2.449543      0.635553   27977.467779\n",
       "min        1.000000   1972.000000      1.000000      1.000000       0.000000\n",
       "25%    12635.000000   1982.000000      3.000000      1.000000    8636.000000\n",
       "50%    25377.000000   1990.000000      5.000000      2.000000   21068.000000\n",
       "75%    38050.000000   1998.000000      7.000000      2.000000   36189.000000\n",
       "max    55087.000000   2010.000000      9.000000      3.000000  162607.000000"
      ]
     },
     "execution_count": 4,
     "metadata": {},
     "output_type": "execute_result"
    }
   ],
   "source": [
    "happy_data = happy_data[happy_data[\"HAPPY\"] != 8] # Don't know\n",
    "happy_data = happy_data[happy_data[\"HAPPY\"] != 9] # No answer\n",
    "happy_data = happy_data[happy_data[\"HAPPY\"] != 0] # Not applicable\n",
    "happy_data.describe()"
   ]
  },
  {
   "cell_type": "markdown",
   "metadata": {},
   "source": [
    "## Visualizing the Data\n",
    "\n",
    "Before we perform our regressions, let's first do some exploratory data analysis to see what we're working with:"
   ]
  },
  {
   "cell_type": "code",
   "execution_count": 5,
   "metadata": {
    "collapsed": false
   },
   "outputs": [
    {
     "data": {
      "image/png": "[encoded data removed]",
      "text/plain": [
       "<matplotlib.figure.Figure at 0x1101544a8>"
      ]
     },
     "metadata": {},
     "output_type": "display_data"
    }
   ],
   "source": [
    "happy_data.boxplot(\"REALINC\")\n",
    "plt.show()"
   ]
  },
  {
   "cell_type": "code",
   "execution_count": 6,
   "metadata": {
    "collapsed": false
   },
   "outputs": [
    {
     "data": {
      "image/png": "[encoded data removed]",
      "text/plain": [
       "<matplotlib.figure.Figure at 0x104a3a828>"
      ]
     },
     "metadata": {},
     "output_type": "display_data"
    }
   ],
   "source": [
    "happy = {1: \"Very happy\",\n",
    "         2: \"Pretty happy\",\n",
    "         3: \"Not too happy\"}\n",
    "\n",
    "happy_data[\"HAPPY\"].map(happy).value_counts().plot(kind='bar')\n",
    "plt.show()"
   ]
  },
  {
   "cell_type": "code",
   "execution_count": 7,
   "metadata": {
    "collapsed": false
   },
   "outputs": [
    {
     "data": {
      "image/png": "[encoded data removed]",
      "text/plain": [
       "<matplotlib.figure.Figure at 0x11123a978>"
      ]
     },
     "metadata": {},
     "output_type": "display_data"
    }
   ],
   "source": [
    "regions = {1: \"New england\",\n",
    "           2: \"Middle atlantic\",\n",
    "           3: \"E. nor. central\",\n",
    "           4: \"W. nor. central\",\n",
    "           5: \"South atlantic\",\n",
    "           6: \"E. sou. central\",\n",
    "           7: \"W. sou. central\",\n",
    "           8: \"Mountain\",\n",
    "           9: \"Pacific\"}\n",
    "\n",
    "happy_data[\"REGION\"].map(regions).value_counts().plot(kind='bar')\n",
    "plt.show()"
   ]
  },
  {
   "cell_type": "code",
   "execution_count": 8,
   "metadata": {
    "collapsed": false
   },
   "outputs": [
    {
     "data": {
      "image/png": "[encoded data removed]",
      "text/plain": [
       "<matplotlib.figure.Figure at 0x1112433c8>"
      ]
     },
     "metadata": {},
     "output_type": "display_data"
    }
   ],
   "source": [
    "happy_data[\"YEAR\"].value_counts().plot(kind='bar')\n",
    "plt.show()"
   ]
  },
  {
   "cell_type": "code",
   "execution_count": 9,
   "metadata": {
    "collapsed": false
   },
   "outputs": [
    {
     "data": {
      "image/png": "[encoded data removed]",
      "text/plain": [
       "<matplotlib.figure.Figure at 0x1105684a8>"
      ]
     },
     "metadata": {},
     "output_type": "display_data"
    }
   ],
   "source": [
    "happy_data.hist(\"REALINC\")\n",
    "plt.show()"
   ]
  },
  {
   "cell_type": "markdown",
   "metadata": {},
   "source": [
    "Looks like there might be a lot of reported 0 incomes:"
   ]
  },
  {
   "cell_type": "code",
   "execution_count": 10,
   "metadata": {
    "collapsed": false
   },
   "outputs": [
    {
     "data": {
      "text/plain": [
       "0.099072621482614129"
      ]
     },
     "execution_count": 10,
     "metadata": {},
     "output_type": "execute_result"
    }
   ],
   "source": [
    "happy_data[\"REALINC\"].value_counts()[0] / len(happy_data[\"REALINC\"])"
   ]
  },
  {
   "cell_type": "markdown",
   "metadata": {},
   "source": [
    "Nearly 10% of the reported `REALINC` are 0.\n",
    "\n",
    "Let's make some scatter plots:"
   ]
  },
  {
   "cell_type": "code",
   "execution_count": 11,
   "metadata": {
    "collapsed": false
   },
   "outputs": [
    {
     "data": {
      "image/png": "[encoded data removed]",
      "text/plain": [
       "<matplotlib.figure.Figure at 0x11106db00>"
      ]
     },
     "metadata": {},
     "output_type": "display_data"
    }
   ],
   "source": [
    "sns.regplot(happy_data[\"YEAR\"], happy_data[\"HAPPY\"])\n",
    "plt.title(\"Happiness over Time\")\n",
    "plt.xlabel(\"Year\")\n",
    "plt.ylabel(\"Happy Rating\")\n",
    "plt.show()"
   ]
  },
  {
   "cell_type": "code",
   "execution_count": 12,
   "metadata": {
    "collapsed": false
   },
   "outputs": [
    {
     "data": {
      "image/png": "[encoded data removed]",
      "text/plain": [
       "<matplotlib.figure.Figure at 0x11103cc88>"
      ]
     },
     "metadata": {},
     "output_type": "display_data"
    }
   ],
   "source": [
    "sns.regplot(happy_data[\"REALINC\"], happy_data[\"HAPPY\"])\n",
    "plt.title(\"Real Income vs. Happy\")\n",
    "plt.xlabel(\"Real Income ($)\")\n",
    "plt.ylabel(\"Happy\")\n",
    "plt.show()"
   ]
  },
  {
   "cell_type": "markdown",
   "metadata": {},
   "source": [
    "While it is always good to get a sense of how the data is distributed visually, we cannot gain much insight right away, until we perform the regressions. "
   ]
  },
  {
   "cell_type": "markdown",
   "metadata": {},
   "source": [
    "# Part 2\n",
    "\n",
    "> Estimate the mean values of `HAPPY` and `REALINC` by region.  Discuss. (Note: you will want to ignore any values for these variables which indicate different missing codes; see the codebook)."
   ]
  },
  {
   "cell_type": "code",
   "execution_count": 13,
   "metadata": {
    "collapsed": false
   },
   "outputs": [
    {
     "name": "stdout",
     "output_type": "stream",
     "text": [
      "New england\n",
      "Mean HAPPY: 1.77445193929\n",
      "Mean REALINC: 34595.9709106\n",
      "\n",
      "Middle atlantic\n",
      "Mean HAPPY: 1.85581887992\n",
      "Mean REALINC: 29592.7595657\n",
      "\n",
      "E. nor. central\n",
      "Mean HAPPY: 1.81490129484\n",
      "Mean REALINC: 28273.9355763\n",
      "\n",
      "W. nor. central\n",
      "Mean HAPPY: 1.76955602537\n",
      "Mean REALINC: 26380.9030127\n",
      "\n",
      "South atlantic\n",
      "Mean HAPPY: 1.79412993524\n",
      "Mean REALINC: 26295.3324629\n",
      "\n",
      "E. sou. central\n",
      "Mean HAPPY: 1.775\n",
      "Mean REALINC: 21203.7746988\n",
      "\n",
      "W. sou. central\n",
      "Mean HAPPY: 1.80621805792\n",
      "Mean REALINC: 24825.0858177\n",
      "\n",
      "Mountain\n",
      "Mean HAPPY: 1.79675346635\n",
      "Mean REALINC: 27904.9259385\n",
      "\n",
      "Pacific\n",
      "Mean HAPPY: 1.81943404701\n",
      "Mean REALINC: 32071.1952388\n",
      "\n"
     ]
    }
   ],
   "source": [
    "happy_reg_mean = []\n",
    "inc_reg_mean = []\n",
    "regions_mean = []\n",
    "\n",
    "for i in range(min(happy_data['REGION']), max(happy_data['REGION'] + 1)):\n",
    "    print(regions[i])\n",
    "    means = happy_data[happy_data['REGION'] == i][['HAPPY', 'REALINC']].mean()\n",
    "    print(\"Mean HAPPY: \" + str(means[0]))\n",
    "    print(\"Mean REALINC: \" + str(means[1]))\n",
    "    print()\n",
    "    happy_reg_mean.append(means[0])\n",
    "    inc_reg_mean.append(means[1])\n",
    "    regions_mean.append(regions[i])"
   ]
  },
  {
   "cell_type": "code",
   "execution_count": 14,
   "metadata": {
    "collapsed": false
   },
   "outputs": [
    {
     "data": {
      "image/png": "[encoded data removed]",
      "text/plain": [
       "<matplotlib.figure.Figure at 0x111288b38>"
      ]
     },
     "metadata": {},
     "output_type": "display_data"
    }
   ],
   "source": [
    "g = sns.barplot(x=regions_mean, y=happy_reg_mean)\n",
    "g.set_xticklabels(labels=regions_mean, rotation=90)\n",
    "plt.title(\"Region HAPPY mean\")\n",
    "plt.xlabel(\"Region\")\n",
    "plt.ylabel(\"Happy\")\n",
    "plt.show()"
   ]
  },
  {
   "cell_type": "code",
   "execution_count": 15,
   "metadata": {
    "collapsed": false
   },
   "outputs": [
    {
     "data": {
      "image/png": "[encoded data removed]",
      "text/plain": [
       "<matplotlib.figure.Figure at 0x111145b38>"
      ]
     },
     "metadata": {},
     "output_type": "display_data"
    }
   ],
   "source": [
    "g = sns.barplot(x=regions_mean, y=inc_reg_mean)\n",
    "g.set_xticklabels(labels=regions_mean, rotation=90)\n",
    "plt.title(\"Region REALINC mean\")\n",
    "plt.xlabel(\"Region\")\n",
    "plt.ylabel(\"REALINC\")\n",
    "plt.show()\n",
    "plt.show()"
   ]
  },
  {
   "cell_type": "markdown",
   "metadata": {},
   "source": [
    "# Part 3\n",
    "\n",
    "> Consider a simple regression of the form \n",
    "\n",
    "> $\\mbox{VHAPPY}_i= \\alpha + \\beta\\log(\\mbox{REALINC}) + \\epsilon_i$\n",
    "\n",
    "\n",
    "> where the subscripts $i$ indicate the value of the variable for the $i$th observation, and $\\mbox{VHAPPY}_i$ takes the value 1 if the respondent is \"Very happy\", and zero otherwise. Estimate the regression.  How would you interpret your estimates of the coefficients?\n",
    "\n",
    "Before we estimate the regression we will change the remaining `HAPPY` values that aren't \"very happy\" to 0:"
   ]
  },
  {
   "cell_type": "code",
   "execution_count": 16,
   "metadata": {
    "collapsed": false
   },
   "outputs": [
    {
     "data": {
      "text/html": [
       "<div>\n",
       "<style>\n",
       "    .dataframe thead tr:only-child th {\n",
       "        text-align: right;\n",
       "    }\n",
       "\n",
       "    .dataframe thead th {\n",
       "        text-align: left;\n",
       "    }\n",
       "\n",
       "    .dataframe tbody tr th {\n",
       "        vertical-align: top;\n",
       "    }\n",
       "</style>\n",
       "<table border=\"1\" class=\"dataframe\">\n",
       "  <thead>\n",
       "    <tr style=\"text-align: right;\">\n",
       "      <th></th>\n",
       "      <th>CASEID</th>\n",
       "      <th>YEAR</th>\n",
       "      <th>REGION</th>\n",
       "      <th>HAPPY</th>\n",
       "      <th>REALINC</th>\n",
       "    </tr>\n",
       "  </thead>\n",
       "  <tbody>\n",
       "    <tr>\n",
       "      <th>count</th>\n",
       "      <td>50357.000000</td>\n",
       "      <td>50357.000000</td>\n",
       "      <td>50357.000000</td>\n",
       "      <td>50357.000000</td>\n",
       "      <td>50357.000000</td>\n",
       "    </tr>\n",
       "    <tr>\n",
       "      <th>mean</th>\n",
       "      <td>25998.103759</td>\n",
       "      <td>1990.276545</td>\n",
       "      <td>4.871398</td>\n",
       "      <td>0.316480</td>\n",
       "      <td>27945.333141</td>\n",
       "    </tr>\n",
       "    <tr>\n",
       "      <th>std</th>\n",
       "      <td>15634.690306</td>\n",
       "      <td>11.121952</td>\n",
       "      <td>2.449543</td>\n",
       "      <td>0.465107</td>\n",
       "      <td>27977.467779</td>\n",
       "    </tr>\n",
       "    <tr>\n",
       "      <th>min</th>\n",
       "      <td>1.000000</td>\n",
       "      <td>1972.000000</td>\n",
       "      <td>1.000000</td>\n",
       "      <td>0.000000</td>\n",
       "      <td>0.000000</td>\n",
       "    </tr>\n",
       "    <tr>\n",
       "      <th>25%</th>\n",
       "      <td>12635.000000</td>\n",
       "      <td>1982.000000</td>\n",
       "      <td>3.000000</td>\n",
       "      <td>0.000000</td>\n",
       "      <td>8636.000000</td>\n",
       "    </tr>\n",
       "    <tr>\n",
       "      <th>50%</th>\n",
       "      <td>25377.000000</td>\n",
       "      <td>1990.000000</td>\n",
       "      <td>5.000000</td>\n",
       "      <td>0.000000</td>\n",
       "      <td>21068.000000</td>\n",
       "    </tr>\n",
       "    <tr>\n",
       "      <th>75%</th>\n",
       "      <td>38050.000000</td>\n",
       "      <td>1998.000000</td>\n",
       "      <td>7.000000</td>\n",
       "      <td>1.000000</td>\n",
       "      <td>36189.000000</td>\n",
       "    </tr>\n",
       "    <tr>\n",
       "      <th>max</th>\n",
       "      <td>55087.000000</td>\n",
       "      <td>2010.000000</td>\n",
       "      <td>9.000000</td>\n",
       "      <td>1.000000</td>\n",
       "      <td>162607.000000</td>\n",
       "    </tr>\n",
       "  </tbody>\n",
       "</table>\n",
       "</div>"
      ],
      "text/plain": [
       "             CASEID          YEAR        REGION         HAPPY        REALINC\n",
       "count  50357.000000  50357.000000  50357.000000  50357.000000   50357.000000\n",
       "mean   25998.103759   1990.276545      4.871398      0.316480   27945.333141\n",
       "std    15634.690306     11.121952      2.449543      0.465107   27977.467779\n",
       "min        1.000000   1972.000000      1.000000      0.000000       0.000000\n",
       "25%    12635.000000   1982.000000      3.000000      0.000000    8636.000000\n",
       "50%    25377.000000   1990.000000      5.000000      0.000000   21068.000000\n",
       "75%    38050.000000   1998.000000      7.000000      1.000000   36189.000000\n",
       "max    55087.000000   2010.000000      9.000000      1.000000  162607.000000"
      ]
     },
     "execution_count": 16,
     "metadata": {},
     "output_type": "execute_result"
    }
   ],
   "source": [
    "happy_data.loc[happy_data[\"HAPPY\"] > 1, 'HAPPY'] = 0\n",
    "happy_data.describe()"
   ]
  },
  {
   "cell_type": "markdown",
   "metadata": {},
   "source": [
    "We can also get the counts for `HAPPY` being 0 or 1:"
   ]
  },
  {
   "cell_type": "code",
   "execution_count": 17,
   "metadata": {
    "collapsed": false
   },
   "outputs": [
    {
     "data": {
      "text/plain": [
       "0    34420\n",
       "1    15937\n",
       "Name: HAPPY, dtype: int64"
      ]
     },
     "execution_count": 17,
     "metadata": {},
     "output_type": "execute_result"
    }
   ],
   "source": [
    "happy_data[\"HAPPY\"].value_counts()"
   ]
  },
  {
   "cell_type": "markdown",
   "metadata": {},
   "source": [
    "Now we can estimate:\n",
    "\n",
    "$\\mbox{VHAPPY}_i= \\alpha + \\beta\\log(\\mbox{REALINC}) + \\epsilon_i$"
   ]
  },
  {
   "cell_type": "code",
   "execution_count": 18,
   "metadata": {
    "collapsed": false
   },
   "outputs": [
    {
     "name": "stdout",
     "output_type": "stream",
     "text": [
      "                            OLS Regression Results                            \n",
      "==============================================================================\n",
      "Dep. Variable:                  HAPPY   R-squared:                       0.000\n",
      "Model:                            OLS   Adj. R-squared:                  0.000\n",
      "Method:                 Least Squares   F-statistic:                     3.877\n",
      "Date:                Sun, 24 Sep 2017   Prob (F-statistic):             0.0490\n",
      "Time:                        10:20:32   Log-Likelihood:                -32903.\n",
      "No. Observations:               50357   AIC:                         6.581e+04\n",
      "Df Residuals:                   50355   BIC:                         6.583e+04\n",
      "Df Model:                           1                                         \n",
      "Covariance Type:            nonrobust                                         \n",
      "===========================================================================================\n",
      "                              coef    std err          t      P>|t|      [0.025      0.975]\n",
      "-------------------------------------------------------------------------------------------\n",
      "Intercept                   0.3108      0.004     87.681      0.000       0.304       0.318\n",
      "np.log(REALINC + .0001)     0.0007      0.000      1.969      0.049     3.2e-06       0.001\n",
      "==============================================================================\n",
      "Omnibus:                     4115.092   Durbin-Watson:                   1.943\n",
      "Prob(Omnibus):                  0.000   Jarque-Bera (JB):             9204.240\n",
      "Skew:                           0.789   Prob(JB):                         0.00\n",
      "Kurtosis:                       1.623   Cond. No.                         17.1\n",
      "==============================================================================\n",
      "\n",
      "Warnings:\n",
      "[1] Standard Errors assume that the covariance matrix of the errors is correctly specified.\n"
     ]
    }
   ],
   "source": [
    "mod = smf.ols(formula='HAPPY ~ np.log(REALINC + .0001)', data=happy_data)\n",
    "res = mod.fit()\n",
    "print(res.summary())"
   ]
  },
  {
   "cell_type": "markdown",
   "metadata": {},
   "source": [
    "In our basic regression, we have some significance (p-value of .049) of a positive influence of `REALINC` on `HAPPY`, although our R-squared is 0.\n",
    "\n",
    "Let's add in the `REGION` dummies:"
   ]
  },
  {
   "cell_type": "code",
   "execution_count": 19,
   "metadata": {
    "collapsed": false,
    "scrolled": true
   },
   "outputs": [
    {
     "name": "stdout",
     "output_type": "stream",
     "text": [
      "                            OLS Regression Results                            \n",
      "==============================================================================\n",
      "Dep. Variable:                  HAPPY   R-squared:                       0.001\n",
      "Model:                            OLS   Adj. R-squared:                  0.001\n",
      "Method:                 Least Squares   F-statistic:                     7.408\n",
      "Date:                Sun, 24 Sep 2017   Prob (F-statistic):           6.94e-11\n",
      "Time:                        10:20:32   Log-Likelihood:                -32872.\n",
      "No. Observations:               50357   AIC:                         6.576e+04\n",
      "Df Residuals:                   50347   BIC:                         6.585e+04\n",
      "Df Model:                           9                                         \n",
      "Covariance Type:            nonrobust                                         \n",
      "================================================================================================\n",
      "                                   coef    std err          t      P>|t|      [0.025      0.975]\n",
      "------------------------------------------------------------------------------------------------\n",
      "Intercept                        0.3043      0.006     54.116      0.000       0.293       0.315\n",
      "C(REGION)[T.E. sou. central]     0.0346      0.009      3.685      0.000       0.016       0.053\n",
      "C(REGION)[T.Middle atlantic]    -0.0221      0.007     -3.080      0.002      -0.036      -0.008\n",
      "C(REGION)[T.Mountain]            0.0013      0.010      0.131      0.896      -0.018       0.020\n",
      "C(REGION)[T.New england]         0.0170      0.011      1.593      0.111      -0.004       0.038\n",
      "C(REGION)[T.Pacific]             0.0003      0.007      0.034      0.973      -0.014       0.015\n",
      "C(REGION)[T.South atlantic]      0.0260      0.007      3.859      0.000       0.013       0.039\n",
      "C(REGION)[T.W. nor. central]     0.0090      0.009      1.008      0.313      -0.009       0.027\n",
      "C(REGION)[T.W. sou. central]     0.0105      0.008      1.270      0.204      -0.006       0.027\n",
      "np.log(REALINC + .0001)          0.0007      0.000      1.982      0.047    7.95e-06       0.001\n",
      "==============================================================================\n",
      "Omnibus:                     4102.407   Durbin-Watson:                   1.945\n",
      "Prob(Omnibus):                  0.000   Jarque-Bera (JB):             9164.905\n",
      "Skew:                           0.788   Prob(JB):                         0.00\n",
      "Kurtosis:                       1.626   Cond. No.                         77.0\n",
      "==============================================================================\n",
      "\n",
      "Warnings:\n",
      "[1] Standard Errors assume that the covariance matrix of the errors is correctly specified.\n"
     ]
    }
   ],
   "source": [
    "happy_data[\"REGION\"] = happy_data[\"REGION\"].map(regions)  # map regions\n",
    "mod = smf.ols(formula='HAPPY ~ np.log(REALINC + .0001) + C(REGION)', data=happy_data)\n",
    "res = mod.fit()\n",
    "print(res.summary())"
   ]
  },
  {
   "cell_type": "markdown",
   "metadata": {},
   "source": [
    "Here we see that certain regional dummy variable are significant in different directions. The coefficient for the Middle atlantic is negative, while the coefficient for the South Atlantic is positive, both with high significance. Our R-squared is still very low."
   ]
  },
  {
   "cell_type": "code",
   "execution_count": null,
   "metadata": {
    "collapsed": true
   },
   "outputs": [],
   "source": []
  }
 ],
 "metadata": {
  "anaconda-cloud": {},
  "kernelspec": {
   "display_name": "Python [default]",
   "language": "python",
   "name": "python3"
  },
  "language_info": {
   "codemirror_mode": {
    "name": "ipython",
    "version": 3
   },
   "file_extension": ".py",
   "mimetype": "text/x-python",
   "name": "python",
   "nbconvert_exporter": "python",
   "pygments_lexer": "ipython3",
   "version": "3.5.2"
  }
 },
 "nbformat": 4,
 "nbformat_minor": 2
}
